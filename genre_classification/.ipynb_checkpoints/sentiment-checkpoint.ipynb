{
 "cells": [
  {
   "cell_type": "code",
   "execution_count": null,
   "metadata": {},
   "outputs": [],
   "source": [
    "import pandas as pd\n",
    "import numpy as np\n",
    "from tqdm import tqdm\n",
    "from textblob import TextBlob"
   ]
  },
  {
   "cell_type": "code",
   "execution_count": null,
   "metadata": {},
   "outputs": [],
   "source": [
    "df = pd.read_pickle('dataset.pkl')"
   ]
  },
  {
   "cell_type": "code",
   "execution_count": null,
   "metadata": {},
   "outputs": [],
   "source": [
    "polarity_all_books=[]\n",
    "for i , r in tqdm(df.iterrows()):\n",
    "    test_data= r['text']\n",
    "    chunk_len=10000\n",
    "    book_len=len(test_data)\n",
    "    rem=book_len%chunk_len\n",
    "    test_data+=test_data[:(chunk_len - rem)]\n",
    "    \n",
    "    polarity_each_book=[]\n",
    "    for j in range (10000,len(test_data)+1,10000):\n",
    "        #print(test_data[:j], type(test_data[:j]))\n",
    "        text = TextBlob(test_data[:j])\n",
    "        polarity=text.sentiment.polarity\n",
    "        polarity_each_book.append(polarity)\n",
    "#         break\n",
    "    \n",
    "    polarity_all_books.append([r['name'],r['author'],np.average(polarity_each_book),r['genre']])\n",
    "#     break\n",
    "        "
   ]
  },
  {
   "cell_type": "code",
   "execution_count": null,
   "metadata": {},
   "outputs": [],
   "source": [
    "## pickle file \n",
    "\n",
    "feature_df = pd.DataFrame(polarity_all_books, columns=[\"name\", \"author\", \"sentiment\", \"genre\"])\n",
    "pd.to_pickle(feature_df,\"C:\\\\Users\\\\Gurpreet\\\\sentiment.pkl\")"
   ]
  },
  {
   "cell_type": "markdown",
   "metadata": {},
   "source": [
    "# Augmented data "
   ]
  },
  {
   "cell_type": "code",
   "execution_count": null,
   "metadata": {},
   "outputs": [],
   "source": [
    "aug = pd.read_pickle('C:\\\\Users\\\\Gurpreet\\\\augmented_data_train.pkl')"
   ]
  },
  {
   "cell_type": "code",
   "execution_count": null,
   "metadata": {},
   "outputs": [],
   "source": [
    "polarity_aug=[]\n",
    "for i in tqdm(range(len(aug))):\n",
    "    test_data= aug['text'][i]\n",
    "    chunk_len=10000\n",
    "    book_len=len(test_data)\n",
    "    rem=book_len%chunk_len\n",
    "    test_data+=test_data[:(chunk_len - rem)]\n",
    "    \n",
    "    polarity_each_book=[]\n",
    "    for j in range (10000,len(test_data)+1,10000):\n",
    "        #print(test_data[:j], type(test_data[:j]))\n",
    "        text = TextBlob(test_data[:j])\n",
    "        polarity=text.sentiment.polarity\n",
    "        polarity_each_book.append(polarity)\n",
    "#         break\n",
    "    \n",
    "    polarity_aug.append([aug['name'][i],aug['author'][i],np.average(polarity_each_book),aug['genre'][i]])\n",
    "#     break\n",
    "        "
   ]
  },
  {
   "cell_type": "code",
   "execution_count": null,
   "metadata": {},
   "outputs": [],
   "source": [
    "## Pickle file \n",
    "\n",
    "feature_df = pd.DataFrame(polarity_aug, columns=[\"name\", \"author\", \"sentiment\", \"genre\"])\n",
    "pd.to_pickle(feature_df,\"C:\\\\Users\\\\Gurpreet\\\\augmented_sentiment_train.pkl\")"
   ]
  }
 ],
 "metadata": {
  "kernelspec": {
   "display_name": "Python 3",
   "language": "python",
   "name": "python3"
  },
  "language_info": {
   "codemirror_mode": {
    "name": "ipython",
    "version": 3
   },
   "file_extension": ".py",
   "mimetype": "text/x-python",
   "name": "python",
   "nbconvert_exporter": "python",
   "pygments_lexer": "ipython3",
   "version": "3.7.7"
  }
 },
 "nbformat": 4,
 "nbformat_minor": 4
}
