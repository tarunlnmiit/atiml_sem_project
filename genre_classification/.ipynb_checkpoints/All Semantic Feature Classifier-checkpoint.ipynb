{
 "cells": [
  {
   "cell_type": "code",
   "execution_count": 89,
   "metadata": {},
   "outputs": [],
   "source": [
    "import matplotlib.pyplot as plt\n",
    "import numpy as np\n",
    "import pandas as pd\n",
    "from sklearn.preprocessing import StandardScaler\n",
    "from sklearn.ensemble import RandomForestClassifier\n",
    "from sklearn.svm import SVC\n",
    "from sklearn.naive_bayes import MultinomialNB\n",
    "from sklearn.metrics import classification_report, accuracy_score, confusion_matrix, precision_recall_curve, precision_score, recall_score, f1_score, plot_confusion_matrix\n",
    "from sklearn.model_selection import train_test_split\n",
    "from imblearn.under_sampling import RandomUnderSampler\n",
    "from imblearn.combine import SMOTEENN, SMOTETomek\n",
    "from imblearn.over_sampling import SMOTE, BorderlineSMOTE\n",
    "from imblearn.pipeline import make_pipeline as make_pipeline_imb\n",
    "from imblearn.metrics import classification_report_imbalanced\n",
    "from imblearn.ensemble import BalancedRandomForestClassifier\n",
    "from imblearn.ensemble import BalancedBaggingClassifier\n",
    "from sklearn.tree import DecisionTreeClassifier\n",
    "from sklearn.neural_network import MLPClassifier"
   ]
  },
  {
   "cell_type": "code",
   "execution_count": 90,
   "metadata": {},
   "outputs": [],
   "source": [
    "training_data = pd.read_pickle('training_data.pkl')\n",
    "training_data = training_data.fillna(value=0)\n",
    "testing_data = pd.read_pickle('testing_data.pkl')\n",
    "testing_data = testing_data.fillna(value=0)"
   ]
  },
  {
   "cell_type": "code",
   "execution_count": 92,
   "metadata": {},
   "outputs": [
    {
     "name": "stdout",
     "output_type": "stream",
     "text": [
      "(725, 41) (725,)\n",
      "(array(['Allegories', 'Christmas Stories', 'Detective and Mystery',\n",
      "       'Ghost and Horror', 'Humorous and Wit and Satire', 'Literary',\n",
      "       'Love and Romance', 'Sea and Adventure', 'Western Stories'],\n",
      "      dtype=object), array([ 10,  10,  78,  10,  10, 556,  13,  25,  13]))\n"
     ]
    }
   ],
   "source": [
    "X_train = training_data.iloc[:, 2:-1]\n",
    "y_train = training_data.iloc[:, -1]\n",
    "print(X_train.shape, y_train.shape)\n",
    "print(np.unique(y_train, return_counts=True))"
   ]
  },
  {
   "cell_type": "code",
   "execution_count": 93,
   "metadata": {},
   "outputs": [
    {
     "name": "stdout",
     "output_type": "stream",
     "text": [
      "(299, 41) (299,)\n",
      "(array(['Allegories', 'Christmas Stories', 'Detective and Mystery',\n",
      "       'Ghost and Horror', 'Humorous and Wit and Satire', 'Literary',\n",
      "       'Love and Romance', 'Sea and Adventure', 'Western Stories'],\n",
      "      dtype=object), array([  1,   2,  33,   2,   2, 238,   5,  11,   5]))\n"
     ]
    }
   ],
   "source": [
    "X_test = testing_data.iloc[:, 2:-1]\n",
    "y_test = testing_data.iloc[:, -1]\n",
    "print(X_test.shape, y_test.shape)\n",
    "print(np.unique(y_test, return_counts=True))"
   ]
  },
  {
   "cell_type": "code",
   "execution_count": 95,
   "metadata": {},
   "outputs": [
    {
     "name": "stdout",
     "output_type": "stream",
     "text": [
      "(299, 41)\n"
     ]
    }
   ],
   "source": [
    "scaler = StandardScaler()\n",
    "X_train = scaler.fit_transform(X_train)\n",
    "X_test = scaler.transform(X_test)\n",
    "print(X_test.shape)\n",
    "t = X_test[4].reshape(1, -1)"
   ]
  },
  {
   "cell_type": "code",
   "execution_count": 96,
   "metadata": {},
   "outputs": [],
   "source": [
    "X_resampled, y_resampled = SMOTETomek(random_state=0).fit_resample(X_train, y_train)\n",
    "# print(np.unique(y_resampled, return_counts=True))\n",
    "classifiers = [RandomForestClassifier(n_estimators=100), SVC(), MLPClassifier()]\n",
    "d = {}\n",
    "\n",
    "for classifier in classifiers:\n",
    "    classifier.fit(X_resampled, y_resampled)\n",
    "    y_pred = classifier.predict(X_test)\n",
    "    cm = confusion_matrix(y_test, y_pred, labels=['Allegories', 'Christmas Stories', 'Detective and Mystery',\n",
    "       'Ghost and Horror', 'Humorous and Wit and Satire', 'Literary',\n",
    "       'Love and Romance', 'Sea and Adventure', 'Western Stories'])\n",
    "#     cm = cm.astype('float') / cm.sum(axis=1)[:, np.newaxis]\n",
    "#     print(cm)\n",
    "    plot_confusion_matrix(classifier, X_test, y_test, display_labels=['Allegories', 'Christmas Stories', 'Detective and Mystery',\n",
    "       'Ghost and Horror', 'Humorous and Wit and Satire', 'Literary',\n",
    "       'Love and Romance', 'Sea and Adventure', 'Western Stories'], cmap=plt.cm.Blues) \n",
    "    plt.xticks(rotation=90)\n",
    "    print(precision_score(y_test, y_pred, average='weighted'))\n",
    "    print(f1_score(y_test, y_pred, average='weighted'))\n",
    "    print(recall_score(y_test, y_pred, average='weighted'))\n",
    "    d[str(classifier).split('(')[0]] = [precision_score(y_test, y_pred, average='weighted'),\n",
    "                                       recall_score(y_test, y_pred, average='weighted'),\n",
    "                                       f1_score(y_test, y_pred, average='weighted')]\n",
    "#     plt.matshow(cm)\n",
    "    plt.title('Confusion matrix_{}'.format(str(classifier).split('(')[0]))\n",
    "#     plt.colorbar()\n",
    "#     plt.ylabel('True label')\n",
    "#     plt.xlabel('Predicted label')\n",
    "    plt.savefig('{}_Features.png'.format(str(classifier).split('(')[0]), bbox_inches='tight',dpi=199)"
   ]
  },
  {
   "cell_type": "code",
   "execution_count": 100,
   "metadata": {},
   "outputs": [
    {
     "data": {
      "image/png": "[encoded data removed]",
      "text/plain": [
       "<Figure size 864x864 with 1 Axes>"
      ]
     },
     "metadata": {
      "needs_background": "light"
     },
     "output_type": "display_data"
    }
   ],
   "source": [
    "# set width of bar\n",
    "barWidth = 0.25\n",
    " \n",
    "# set height of bar\n",
    "SVM = d['SVC']\n",
    "RandomForest = d['RandomForestClassifier']\n",
    "MLP = d['MLPClassifier']\n",
    "# BoW = d['BoW']\n",
    " \n",
    "# Set position of bar on X axis\n",
    "r1 = np.arange(len(SVM))\n",
    "r2 = [x + barWidth for x in r1]\n",
    "r3 = [x + barWidth for x in r2]\n",
    "# r4 = [x + barWidth for x in r3]\n",
    " \n",
    "# Make the plot\n",
    "f, (ax1) = plt.subplots(1, 1, figsize=(12, 12))\n",
    "plt.bar(r1, SVM, color='red', width=barWidth, edgecolor='white', label='SVM')\n",
    "plt.bar(r2, RandomForest, color='blue', width=barWidth, edgecolor='white', label='RandomForest')\n",
    "plt.bar(r3, MLP, color='green', width=barWidth, edgecolor='white', label='MLP')\n",
    "# plt.bar(r4, BoW, color='cyan', width=barWidth, edgecolor='white', label='BoW')\n",
    " \n",
    "# Add xticks on the middle of the group bars\n",
    "plt.xlabel('Performance Metrics', fontweight='bold')\n",
    "plt.ylabel('Score', fontweight='bold')\n",
    "plt.xticks([r + barWidth for r in range(len(SVM))], ['PRECISION','RECALL','F-SCORE'])\n",
    " \n",
    "# Create legend & Show graphic\n",
    "plt.legend()\n",
    "plt.savefig('Features_Comparison.png', bbox_inches='tight',dpi=199)"
   ]
  }
 ],
 "metadata": {
  "kernelspec": {
   "display_name": "Python 3",
   "language": "python",
   "name": "python3"
  },
  "language_info": {
   "codemirror_mode": {
    "name": "ipython",
    "version": 3
   },
   "file_extension": ".py",
   "mimetype": "text/x-python",
   "name": "python",
   "nbconvert_exporter": "python",
   "pygments_lexer": "ipython3",
   "version": "3.7.7"
  }
 },
 "nbformat": 4,
 "nbformat_minor": 4
}
