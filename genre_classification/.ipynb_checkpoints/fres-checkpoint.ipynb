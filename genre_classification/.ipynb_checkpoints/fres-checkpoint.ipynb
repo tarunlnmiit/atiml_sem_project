{
 "cells": [
  {
   "cell_type": "code",
   "execution_count": 1,
   "metadata": {},
   "outputs": [],
   "source": [
    "import textstat\n",
    "import numpy as np\n",
    "import pandas as pd\n",
    "from tqdm import tqdm"
   ]
  },
  {
   "cell_type": "code",
   "execution_count": 3,
   "metadata": {},
   "outputs": [
    {
     "name": "stderr",
     "output_type": "stream",
     "text": [
      "0it [00:10, ?it/s]\n"
     ]
    }
   ],
   "source": [
    "df = pd.read_pickle('../dataset.pkl')\n",
    "f = []\n",
    "for i, r in tqdm(df.iterrows()):\n",
    "    test_data = r['text']\n",
    "\n",
    "    chunk_len = 10000\n",
    "\n",
    "    book_len = len(test_data)\n",
    "    rem = book_len % chunk_len\n",
    "    test_data += test_data[:(chunk_len - rem)]\n",
    "\n",
    "    fres = []\n",
    "\n",
    "    for i in range(10000, len(test_data) + 1, 10000):\n",
    "        fres.append(textstat.flesch_reading_ease(test_data[:i]))\n",
    "\n",
    "    f.append([r['name'], r['author'], np.average(fres), r['genre']])"
   ]
  },
  {
   "cell_type": "code",
   "execution_count": null,
   "metadata": {},
   "outputs": [],
   "source": [
    "columns = list(df.columns)\n",
    "columns[2] = 'FRES'\n",
    "feature_df = pd.DataFrame(f, columns=columns)"
   ]
  },
  {
   "cell_type": "code",
   "execution_count": null,
   "metadata": {},
   "outputs": [],
   "source": [
    "pd.to_pickle(feature_df, 'fres.pkl')"
   ]
  },
  {
   "cell_type": "markdown",
   "metadata": {},
   "source": [
    "## For Augmented Data"
   ]
  },
  {
   "cell_type": "code",
   "execution_count": null,
   "metadata": {},
   "outputs": [],
   "source": [
    "df = pd.read_pickle('augmented_data_train.pkl')"
   ]
  },
  {
   "cell_type": "code",
   "execution_count": null,
   "metadata": {},
   "outputs": [],
   "source": [
    "f = []\n",
    "for i, r in tqdm(df.iterrows()):\n",
    "    test_data = r['text']\n",
    "\n",
    "    chunk_len = 10000\n",
    "\n",
    "    book_len = len(test_data)\n",
    "    rem = book_len % chunk_len\n",
    "    test_data += test_data[:(chunk_len - rem)]\n",
    "\n",
    "    fres = []\n",
    "\n",
    "    for i in range(10000, len(test_data) + 1, 10000):\n",
    "        # print(i)\n",
    "        fres.append(textstat.flesch_reading_ease(test_data[:i]))\n",
    "\n",
    "    f.append([r['name'], r['author'], np.average(fres), r['genre']])"
   ]
  },
  {
   "cell_type": "code",
   "execution_count": null,
   "metadata": {},
   "outputs": [],
   "source": [
    "df_fser = pd.DataFrame(f, columns=['name', 'author', 'FRES', 'genre'])\n",
    "pd.to_pickle(df_fser, 'augmented_fres.pkl')"
   ]
  }
 ],
 "metadata": {
  "kernelspec": {
   "display_name": "Python 3",
   "language": "python",
   "name": "python3"
  },
  "language_info": {
   "codemirror_mode": {
    "name": "ipython",
    "version": 3
   },
   "file_extension": ".py",
   "mimetype": "text/x-python",
   "name": "python",
   "nbconvert_exporter": "python",
   "pygments_lexer": "ipython3",
   "version": "3.7.7"
  }
 },
 "nbformat": 4,
 "nbformat_minor": 4
}
