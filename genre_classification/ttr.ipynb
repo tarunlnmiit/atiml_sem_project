{
 "cells": [
  {
   "cell_type": "code",
   "execution_count": 8,
   "metadata": {
    "pycharm": {
     "is_executing": false
    }
   },
   "outputs": [
    {
     "name": "stderr",
     "output_type": "stream",
     "text": [
      "[nltk_data] Downloading package punkt to C:\\Users\\Shipra\n",
      "[nltk_data]     Dureja\\AppData\\Roaming\\nltk_data...\n",
      "[nltk_data]   Package punkt is already up-to-date!\n",
      "[nltk_data] Downloading package stopwords to C:\\Users\\Shipra\n",
      "[nltk_data]     Dureja\\AppData\\Roaming\\nltk_data...\n",
      "[nltk_data]   Package stopwords is already up-to-date!\n"
     ]
    }
   ],
   "source": [
    "import numpy as np\n",
    "import pandas as pd\n",
    "import re\n",
    "import nltk\n",
    "nltk.download('punkt')\n",
    "nltk.download('stopwords')\n",
    "from nltk.corpus import stopwords\n",
    "from nltk.tokenize import word_tokenize\n",
    "from collections import Counter\n",
    "from bs4 import BeautifulSoup\n",
    "from tqdm import tqdm\n"
   ]
  },
  {
   "cell_type": "markdown",
   "metadata": {},
   "source": [
    "## Change master CSV path in order to read the html files"
   ]
  },
  {
   "cell_type": "code",
   "execution_count": null,
   "metadata": {},
   "outputs": [],
   "source": [
    "master_csv_path = \"C:\\\\Users\\\\Shipra Dureja\\\\Downloads\\\\dataset\\\\master996.csv\""
   ]
  },
  {
   "cell_type": "code",
   "execution_count": 10,
   "metadata": {
    "pycharm": {
     "name": "#%%\n"
    }
   },
   "outputs": [],
   "source": [
    "def clean(data):\n",
    "    review = re.sub('[^a-zA-Z]', ' ', data)\n",
    "    review = review.lower()\n",
    "    review = review.split()\n",
    "    all_stopwords = stopwords.words('english')\n",
    "    review = [word for word in review if not word in set(all_stopwords)]\n",
    "    review = ' '.join(review)\n",
    "    return review"
   ]
  },
  {
   "cell_type": "code",
   "execution_count": 11,
   "metadata": {
    "pycharm": {
     "is_executing": true,
     "name": "#%%\n"
    }
   },
   "outputs": [
    {
     "name": "stderr",
     "output_type": "stream",
     "text": [
      "996it [09:00,  1.84it/s]\n"
     ]
    }
   ],
   "source": [
    "master_data = pd.read_csv(master_csv_path,delimiter=';',encoding='unicode_escape')\n",
    "dataset = []\n",
    "for i, r in tqdm(master_data.iterrows()):\n",
    "    name = r['Book_Name']\n",
    "    author = r['Author_Name']\n",
    "    book_id = r['book_id']\n",
    "    genre = r['guten_genre']\n",
    "    with open(\"C:\\\\Users\\\\Shipra Dureja\\\\Downloads\\\\dataset\\\\books\\\\{}-content.html\".format(book_id.split('.epub')[0]), 'r',encoding=\"utf8\") as file:\n",
    "        soup = BeautifulSoup(str(file.read()))\n",
    "        book_text = clean(soup.get_text())\n",
    "    row = [name, author, book_text, genre]\n",
    "    dataset.append(row)\n",
    "df = pd.DataFrame(dataset, columns=['name', 'author', 'text', 'genre'])\n",
    "pd.to_pickle(df, 'dataset.pkl')"
   ]
  },
  {
   "cell_type": "code",
   "execution_count": 13,
   "metadata": {
    "pycharm": {
     "is_executing": false,
     "name": "#%%\n"
    }
   },
   "outputs": [
    {
     "data": {
      "text/html": [
       "<div>\n",
       "<style scoped>\n",
       "    .dataframe tbody tr th:only-of-type {\n",
       "        vertical-align: middle;\n",
       "    }\n",
       "\n",
       "    .dataframe tbody tr th {\n",
       "        vertical-align: top;\n",
       "    }\n",
       "\n",
       "    .dataframe thead th {\n",
       "        text-align: right;\n",
       "    }\n",
       "</style>\n",
       "<table border=\"1\" class=\"dataframe\">\n",
       "  <thead>\n",
       "    <tr style=\"text-align: right;\">\n",
       "      <th></th>\n",
       "      <th>name</th>\n",
       "      <th>author</th>\n",
       "      <th>text</th>\n",
       "      <th>genre</th>\n",
       "    </tr>\n",
       "  </thead>\n",
       "  <tbody>\n",
       "    <tr>\n",
       "      <th>0</th>\n",
       "      <td>The Mystery of the Boule Cabinet: A Detective ...</td>\n",
       "      <td>Stevenson| Burton Egbert</td>\n",
       "      <td>detective story b fellow sherlockian hello sai...</td>\n",
       "      <td>Detective and Mystery</td>\n",
       "    </tr>\n",
       "    <tr>\n",
       "      <th>1</th>\n",
       "      <td>The Pupil</td>\n",
       "      <td>James| Henry</td>\n",
       "      <td>edition first published text follows definitiv...</td>\n",
       "      <td>Literary</td>\n",
       "    </tr>\n",
       "    <tr>\n",
       "      <th>2</th>\n",
       "      <td>At Love's Cost</td>\n",
       "      <td>Garvice| Charles</td>\n",
       "      <td>moment never fully realised great ass man thin...</td>\n",
       "      <td>Literary</td>\n",
       "    </tr>\n",
       "    <tr>\n",
       "      <th>3</th>\n",
       "      <td>The Heart of the Range</td>\n",
       "      <td>White| William Patterson</td>\n",
       "      <td>rider golden bar hidden trails lynch lawyers o...</td>\n",
       "      <td>Western Stories</td>\n",
       "    </tr>\n",
       "    <tr>\n",
       "      <th>4</th>\n",
       "      <td>The Worshipper of the Image</td>\n",
       "      <td>Gallienne| Richard Le</td>\n",
       "      <td>worshipper image evening wood still dreaming b...</td>\n",
       "      <td>Literary</td>\n",
       "    </tr>\n",
       "    <tr>\n",
       "      <th>...</th>\n",
       "      <td>...</td>\n",
       "      <td>...</td>\n",
       "      <td>...</td>\n",
       "      <td>...</td>\n",
       "    </tr>\n",
       "    <tr>\n",
       "      <th>991</th>\n",
       "      <td>David Copperfield</td>\n",
       "      <td>Dickens| Charles</td>\n",
       "      <td>find easy get sufficiently far away book first...</td>\n",
       "      <td>Literary</td>\n",
       "    </tr>\n",
       "    <tr>\n",
       "      <th>992</th>\n",
       "      <td>Hard Times</td>\n",
       "      <td>Dickens| Charles</td>\n",
       "      <td>one thing needful murdering innocents loophole...</td>\n",
       "      <td>Literary</td>\n",
       "    </tr>\n",
       "    <tr>\n",
       "      <th>993</th>\n",
       "      <td>Memoirs of Shelock Holmes</td>\n",
       "      <td>Connan| Doyle</td>\n",
       "      <td>afraid watson shall go said holmes sat togethe...</td>\n",
       "      <td>Detective and Mystery</td>\n",
       "    </tr>\n",
       "    <tr>\n",
       "      <th>994</th>\n",
       "      <td>The Mysterious Affair at Styles</td>\n",
       "      <td>Christie| Agatha</td>\n",
       "      <td>intense interest aroused public known time sty...</td>\n",
       "      <td>Detective and Mystery</td>\n",
       "    </tr>\n",
       "    <tr>\n",
       "      <th>995</th>\n",
       "      <td>A Tale of Two Cities</td>\n",
       "      <td>Dickens| Charles</td>\n",
       "      <td>book first recalled life period ii mail iii ni...</td>\n",
       "      <td>Literary</td>\n",
       "    </tr>\n",
       "  </tbody>\n",
       "</table>\n",
       "<p>996 rows × 4 columns</p>\n",
       "</div>"
      ],
      "text/plain": [
       "                                                  name  \\\n",
       "0    The Mystery of the Boule Cabinet: A Detective ...   \n",
       "1                                            The Pupil   \n",
       "2                                       At Love's Cost   \n",
       "3                               The Heart of the Range   \n",
       "4                          The Worshipper of the Image   \n",
       "..                                                 ...   \n",
       "991                                  David Copperfield   \n",
       "992                                         Hard Times   \n",
       "993                          Memoirs of Shelock Holmes   \n",
       "994                    The Mysterious Affair at Styles   \n",
       "995                               A Tale of Two Cities   \n",
       "\n",
       "                       author  \\\n",
       "0    Stevenson| Burton Egbert   \n",
       "1                James| Henry   \n",
       "2            Garvice| Charles   \n",
       "3    White| William Patterson   \n",
       "4       Gallienne| Richard Le   \n",
       "..                        ...   \n",
       "991          Dickens| Charles   \n",
       "992          Dickens| Charles   \n",
       "993             Connan| Doyle   \n",
       "994          Christie| Agatha   \n",
       "995          Dickens| Charles   \n",
       "\n",
       "                                                  text                  genre  \n",
       "0    detective story b fellow sherlockian hello sai...  Detective and Mystery  \n",
       "1    edition first published text follows definitiv...               Literary  \n",
       "2    moment never fully realised great ass man thin...               Literary  \n",
       "3    rider golden bar hidden trails lynch lawyers o...        Western Stories  \n",
       "4    worshipper image evening wood still dreaming b...               Literary  \n",
       "..                                                 ...                    ...  \n",
       "991  find easy get sufficiently far away book first...               Literary  \n",
       "992  one thing needful murdering innocents loophole...               Literary  \n",
       "993  afraid watson shall go said holmes sat togethe...  Detective and Mystery  \n",
       "994  intense interest aroused public known time sty...  Detective and Mystery  \n",
       "995  book first recalled life period ii mail iii ni...               Literary  \n",
       "\n",
       "[996 rows x 4 columns]"
      ]
     },
     "execution_count": 13,
     "metadata": {},
     "output_type": "execute_result"
    }
   ],
   "source": [
    "df = pd.read_pickle('dataset.pkl')"
   ]
  },
  {
   "cell_type": "code",
   "execution_count": 8,
   "metadata": {},
   "outputs": [
    {
     "name": "stderr",
     "output_type": "stream",
     "text": [
      "996it [1:04:20,  3.88s/it]\n"
     ]
    }
   ],
   "source": [
    "for i, r in tqdm(df.iterrows()):\n",
    "    x = r['text']\n",
    "    \n",
    "    chunk_len = 10000\n",
    "    book_len = len(x)\n",
    "    rem = book_len % chunk_len\n",
    "    x += x[:(chunk_len - rem)]\n",
    "    \n",
    "    a = []\n",
    "    \n",
    "    for j in range(10000,len(x)+1,10000):\n",
    "        tokens=nltk.word_tokenize(x[:j])\n",
    "        types=nltk.Counter(tokens)\n",
    "        if(len(tokens) <= 0):\n",
    "            TTR = 0\n",
    "        else:\n",
    "            TTR= len(types)/len(tokens)\n",
    "        a.append(TTR)\n",
    "    df.loc[i, \"TTR\"] = np.average(TTR)"
   ]
  },
  {
   "cell_type": "code",
   "execution_count": 11,
   "metadata": {},
   "outputs": [
    {
     "name": "stderr",
     "output_type": "stream",
     "text": [
      "996it [00:00, 4680.82it/s]\n"
     ]
    }
   ],
   "source": [
    "f = []\n",
    "for i, r in tqdm(df.iterrows()):\n",
    "    f.append([r['name'], r['author'], r['TTR'], r['genre']])\n",
    "new_df = pd.DataFrame(f, columns=['name', 'author', 'TTR', 'genre'])\n",
    "pd.to_pickle(new_df, 'ttr.pkl')"
   ]
  },
  {
   "cell_type": "markdown",
   "metadata": {},
   "source": [
    "## For Augmented Data"
   ]
  },
  {
   "cell_type": "code",
   "execution_count": 3,
   "metadata": {},
   "outputs": [
    {
     "name": "stderr",
     "output_type": "stream",
     "text": [
      "28it [00:48,  1.72s/it]\n"
     ]
    }
   ],
   "source": [
    "df = pd.read_pickle(\"C:\\\\Users\\\\Shipra Dureja\\\\Downloads\\\\augmented_data_train.pkl\")\n",
    "for i, r in tqdm(df.iterrows()):\n",
    "    x = r['text']\n",
    "    review = re.sub('[^a-zA-Z]', ' ', x)\n",
    "    review = review.lower()\n",
    "    review = review.split()\n",
    "    all_stopwords = stopwords.words('english')\n",
    "    review = [word for word in review if not word in set(all_stopwords)]\n",
    "    review = ' '.join(review)\n",
    "    chunk_len = 10000\n",
    "    book_len = len(review)\n",
    "    rem = book_len % chunk_len\n",
    "    review += review[:(chunk_len - rem)]\n",
    "    \n",
    "    a = []\n",
    "    \n",
    "    for j in range(10000,len(review)+1,10000):\n",
    "        tokens=nltk.word_tokenize(review[:j])\n",
    "        types=nltk.Counter(tokens)\n",
    "        if(len(tokens) <= 0):\n",
    "            TTR = 0\n",
    "        else:\n",
    "            TTR= len(types)/len(tokens)\n",
    "        a.append(TTR)\n",
    "    # print(TTR)\n",
    "    df.loc[i, \"TTR\"] = np.average(TTR)"
   ]
  },
  {
   "cell_type": "code",
   "execution_count": 5,
   "metadata": {},
   "outputs": [
    {
     "name": "stderr",
     "output_type": "stream",
     "text": [
      "28it [00:00, 3469.44it/s]\n"
     ]
    }
   ],
   "source": [
    "f = []\n",
    "for i, r in tqdm(df.iterrows()):\n",
    "    f.append([r['name'], r['author'], r['TTR'], r['genre']])\n",
    "new_df = pd.DataFrame(f, columns=['name', 'author', 'TTR', 'genre'])\n",
    "pd.to_pickle(new_df, 'augmented_ttr.pkl')"
   ]
  }
 ],
 "metadata": {
  "kernelspec": {
   "display_name": "Python 3",
   "language": "python",
   "name": "python3"
  },
  "language_info": {
   "codemirror_mode": {
    "name": "ipython",
    "version": 3
   },
   "file_extension": ".py",
   "mimetype": "text/x-python",
   "name": "python",
   "nbconvert_exporter": "python",
   "pygments_lexer": "ipython3",
   "version": "3.7.6"
  },
  "pycharm": {
   "stem_cell": {
    "cell_type": "raw",
    "metadata": {
     "collapsed": false
    },
    "source": []
   }
  }
 },
 "nbformat": 4,
 "nbformat_minor": 4
}
