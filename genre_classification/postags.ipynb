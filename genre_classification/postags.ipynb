{
 "cells": [
  {
   "cell_type": "code",
   "execution_count": null,
   "metadata": {},
   "outputs": [],
   "source": [
    "import pandas as pd\n",
    "import numpy as np\n",
    "from textblob import TextBlob\n",
    "from collections import Counter\n",
    "from tqdm import tqdm\n",
    "df= pd.read_pickle(\"dataset.pkl\")\n",
    "d = pd.DataFrame(0, index=np.arange(df.shape[0]), columns=['name','author','CC','CD','DT','EX',\n",
    "                                                           'FW','IN','JJ','JJR','JJS','LS','MD',\n",
    "                                                           'NN','NNS','NNP','NNPS','PDT','POS',\n",
    "                                                           'PRP','RB','RBR','RBS','RP','TO','UH',\n",
    "                                                           'VB','VBD','VBG','VBN','VBP','VBZ','WDT',\n",
    "                                                           'WP','WRB','PRP$','WP$','genre'])\n",
    "for i,r in tqdm(df.iterrows()):\n",
    "    x= r['text']\n",
    "    pos=TextBlob(x)\n",
    "    lst=pos.tags\n",
    "    pos_list=[]\n",
    "    for y in lst:\n",
    "        pos_list.append(y[1])\n",
    "    c=Counter(pos_list)\n",
    "    print(type(pos_list))\n",
    "    final_percentages=[(y, c[y] / len(pos_list)) for y in c]\n",
    "    d.loc[i,'name']=r['name']\n",
    "    d.loc[i,'author']=r['author']\n",
    "    d.loc[i,'genre']=r['genre']\n",
    "    for z in final_percentages:\n",
    "        d.loc[i,z[0]]=z[1]\n",
    "print(d)\n",
    "pd.to_pickle(d,\"pos.pkl\",protocol=4)"
   ]
  },
  {
   "cell_type": "markdown",
   "metadata": {},
   "source": [
    "## For Augmented Data"
   ]
  },
  {
   "cell_type": "code",
   "execution_count": null,
   "metadata": {},
   "outputs": [],
   "source": [
    "df= pd.read_pickle(\"augmented_data_train.pkl\")\n",
    "d = pd.DataFrame(0, index=np.arange(df.shape[0]), columns=['name','author','CC','CD','DT','EX',\n",
    "                                                           'FW','IN','JJ','JJR','JJS','LS','MD',\n",
    "                                                           'NN','NNS','NNP','NNPS','PDT','POS',\n",
    "                                                           'PRP','RB','RBR','RBS','RP','TO','UH',\n",
    "                                                           'VB','VBD','VBG','VBN','VBP','VBZ','WDT',\n",
    "                                                           'WP','WRB','PRP$','WP$','genre'])\n",
    "for i,r in tqdm(df.iterrows()):\n",
    "    x= r['text']\n",
    "    pos=TextBlob(x)\n",
    "    lst=pos.tags\n",
    "    pos_list=[]\n",
    "    for y in lst:\n",
    "        pos_list.append(y[1])\n",
    "    c=Counter(pos_list)\n",
    "    print(type(pos_list))\n",
    "    final_percentages=[(y, c[y] / len(pos_list)) for y in c]\n",
    "    d.loc[i,'name']=r['name']\n",
    "    d.loc[i,'author']=r['author']\n",
    "    d.loc[i,'genre']=r['genre']\n",
    "    for z in final_percentages:\n",
    "        d.loc[i,z[0]]=z[1]\n",
    "print(d)\n",
    "pd.to_pickle(d,\"augmented_pos.pkl\",protocol=4)"
   ]
  }
 ],
 "metadata": {
  "kernelspec": {
   "display_name": "Python 3",
   "language": "python",
   "name": "python3"
  },
  "language_info": {
   "codemirror_mode": {
    "name": "ipython",
    "version": 3
   },
   "file_extension": ".py",
   "mimetype": "text/x-python",
   "name": "python",
   "nbconvert_exporter": "python",
   "pygments_lexer": "ipython3",
   "version": "3.7.7"
  }
 },
 "nbformat": 4,
 "nbformat_minor": 4
}
